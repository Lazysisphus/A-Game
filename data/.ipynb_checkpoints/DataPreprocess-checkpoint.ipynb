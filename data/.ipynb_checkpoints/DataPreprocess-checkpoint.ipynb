{
 "cells": [
  {
   "cell_type": "code",
   "execution_count": 3,
   "metadata": {},
   "outputs": [],
   "source": [
    "import pandas as pd"
   ]
  },
  {
   "cell_type": "markdown",
   "metadata": {},
   "source": [
    "# steps:\n",
    "    1.读取原始train_query文件、train_reply文件，构造问答对文件；\n",
    "    2.按照4:1的比例切分问答对文件，分为训练集和验证集；\n",
    "    3.构造测试集的问答对文件。"
   ]
  },
  {
   "cell_type": "markdown",
   "metadata": {},
   "source": [
    "# step1 构造问答对文件"
   ]
  },
  {
   "cell_type": "code",
   "execution_count": 2,
   "metadata": {},
   "outputs": [],
   "source": [
    "# 读取原始query、reply文件\n",
    "data_q_path = \"./train/train.query.tsv\"\n",
    "data_r_path = \"./train/train.reply.tsv\""
   ]
  },
  {
   "cell_type": "code",
   "execution_count": 3,
   "metadata": {},
   "outputs": [
    {
     "data": {
      "text/html": [
       "<div>\n",
       "<style scoped>\n",
       "    .dataframe tbody tr th:only-of-type {\n",
       "        vertical-align: middle;\n",
       "    }\n",
       "\n",
       "    .dataframe tbody tr th {\n",
       "        vertical-align: top;\n",
       "    }\n",
       "\n",
       "    .dataframe thead th {\n",
       "        text-align: right;\n",
       "    }\n",
       "</style>\n",
       "<table border=\"1\" class=\"dataframe\">\n",
       "  <thead>\n",
       "    <tr style=\"text-align: right;\">\n",
       "      <th></th>\n",
       "      <th>qid</th>\n",
       "      <th>q_sen</th>\n",
       "    </tr>\n",
       "  </thead>\n",
       "  <tbody>\n",
       "    <tr>\n",
       "      <th>0</th>\n",
       "      <td>0</td>\n",
       "      <td>采荷一小是分校吧</td>\n",
       "    </tr>\n",
       "    <tr>\n",
       "      <th>1</th>\n",
       "      <td>1</td>\n",
       "      <td>毛坯吗？</td>\n",
       "    </tr>\n",
       "    <tr>\n",
       "      <th>2</th>\n",
       "      <td>2</td>\n",
       "      <td>你们的佣金费大约是多少和契税是多少。</td>\n",
       "    </tr>\n",
       "    <tr>\n",
       "      <th>3</th>\n",
       "      <td>3</td>\n",
       "      <td>靠近川沙路嘛？</td>\n",
       "    </tr>\n",
       "    <tr>\n",
       "      <th>4</th>\n",
       "      <td>4</td>\n",
       "      <td>这套房源价格还有优惠空间吗？</td>\n",
       "    </tr>\n",
       "  </tbody>\n",
       "</table>\n",
       "</div>"
      ],
      "text/plain": [
       "   qid               q_sen\n",
       "0    0            采荷一小是分校吧\n",
       "1    1                毛坯吗？\n",
       "2    2  你们的佣金费大约是多少和契税是多少。\n",
       "3    3             靠近川沙路嘛？\n",
       "4    4      这套房源价格还有优惠空间吗？"
      ]
     },
     "execution_count": 3,
     "metadata": {},
     "output_type": "execute_result"
    }
   ],
   "source": [
    "data_q = pd.read_csv(data_q_path, header=None, names=[\"qid\", \"q_sen\"], sep=\"\\t\")\n",
    "data_q.head()"
   ]
  },
  {
   "cell_type": "code",
   "execution_count": 4,
   "metadata": {},
   "outputs": [
    {
     "data": {
      "text/html": [
       "<div>\n",
       "<style scoped>\n",
       "    .dataframe tbody tr th:only-of-type {\n",
       "        vertical-align: middle;\n",
       "    }\n",
       "\n",
       "    .dataframe tbody tr th {\n",
       "        vertical-align: top;\n",
       "    }\n",
       "\n",
       "    .dataframe thead th {\n",
       "        text-align: right;\n",
       "    }\n",
       "</style>\n",
       "<table border=\"1\" class=\"dataframe\">\n",
       "  <thead>\n",
       "    <tr style=\"text-align: right;\">\n",
       "      <th></th>\n",
       "      <th>qid</th>\n",
       "      <th>rid</th>\n",
       "      <th>r_sen</th>\n",
       "      <th>label</th>\n",
       "    </tr>\n",
       "  </thead>\n",
       "  <tbody>\n",
       "    <tr>\n",
       "      <th>0</th>\n",
       "      <td>0</td>\n",
       "      <td>0</td>\n",
       "      <td>杭州市采荷第一小学钱江苑校区，杭州市钱江新城实验学校。</td>\n",
       "      <td>1</td>\n",
       "    </tr>\n",
       "    <tr>\n",
       "      <th>1</th>\n",
       "      <td>0</td>\n",
       "      <td>1</td>\n",
       "      <td>是的</td>\n",
       "      <td>0</td>\n",
       "    </tr>\n",
       "    <tr>\n",
       "      <th>2</th>\n",
       "      <td>0</td>\n",
       "      <td>2</td>\n",
       "      <td>这是5楼</td>\n",
       "      <td>0</td>\n",
       "    </tr>\n",
       "    <tr>\n",
       "      <th>3</th>\n",
       "      <td>1</td>\n",
       "      <td>0</td>\n",
       "      <td>因为公积金贷款贷的少</td>\n",
       "      <td>0</td>\n",
       "    </tr>\n",
       "    <tr>\n",
       "      <th>4</th>\n",
       "      <td>1</td>\n",
       "      <td>1</td>\n",
       "      <td>是呢</td>\n",
       "      <td>0</td>\n",
       "    </tr>\n",
       "  </tbody>\n",
       "</table>\n",
       "</div>"
      ],
      "text/plain": [
       "   qid  rid                        r_sen  label\n",
       "0    0    0  杭州市采荷第一小学钱江苑校区，杭州市钱江新城实验学校。      1\n",
       "1    0    1                           是的      0\n",
       "2    0    2                         这是5楼      0\n",
       "3    1    0                   因为公积金贷款贷的少      0\n",
       "4    1    1                           是呢      0"
      ]
     },
     "execution_count": 4,
     "metadata": {},
     "output_type": "execute_result"
    }
   ],
   "source": [
    "data_r = pd.read_csv(data_r_path, header=None, names=[\"qid\", \"rid\", \"r_sen\", \"label\"], sep=\"\\t\")\n",
    "data_r.head()"
   ]
  },
  {
   "cell_type": "code",
   "execution_count": 5,
   "metadata": {},
   "outputs": [],
   "source": [
    "qid_list = data_r[\"qid\"].tolist()\n",
    "rid_list = data_r[\"rid\"].tolist()\n",
    "r_sen_list = data_r[\"r_sen\"].tolist()\n",
    "label_list = data_r[\"label\"].tolist()\n",
    "\n",
    "# data_q中index和qid相同\n",
    "q_sen_list = []\n",
    "for qid in qid_list:\n",
    "    tmp_sen = data_q.q_sen[qid]\n",
    "    q_sen_list.append(tmp_sen)"
   ]
  },
  {
   "cell_type": "code",
   "execution_count": 6,
   "metadata": {},
   "outputs": [],
   "source": [
    "c = {\"qid\": qid_list, \"rid\": rid_list, \"q_sen\": q_sen_list, \"r_sen\": r_sen_list, \"label\": label_list}\n",
    "data_df = pd.DataFrame(c)"
   ]
  },
  {
   "cell_type": "markdown",
   "metadata": {},
   "source": [
    "# step2 切分问答对文件"
   ]
  },
  {
   "cell_type": "code",
   "execution_count": 7,
   "metadata": {},
   "outputs": [
    {
     "name": "stdout",
     "output_type": "stream",
     "text": [
      "17270\n",
      "   qid  rid     q_sen                        r_sen  label\n",
      "0    0    0  采荷一小是分校吧  杭州市采荷第一小学钱江苑校区，杭州市钱江新城实验学校。      1\n",
      "1    0    1  采荷一小是分校吧                           是的      0\n",
      "2    0    2  采荷一小是分校吧                         这是5楼      0\n",
      "3    1    0      毛坯吗？                   因为公积金贷款贷的少      0\n",
      "4    1    1      毛坯吗？                           是呢      0\n",
      "        qid  rid    q_sen      r_sen  label\n",
      "17265  4796    0  家具家电带着吗  家具家电要和业主聊      1\n",
      "17266  4796    1  家具家电带着吗  因为房子刚挂了3天      0\n",
      "17267  4796    2  家具家电带着吗      所以要核实      0\n",
      "17268  4796    3  家具家电带着吗       您同意下      0\n",
      "17269  4796    4  家具家电带着吗    我和业主核实好      0\n"
     ]
    }
   ],
   "source": [
    "# 按照4：1的比例切分，观察得索引为17270\n",
    "cut_point = 17270\n",
    "train_q = data_df[: cut_point].reset_index(drop=True)\n",
    "print(len(train_q))\n",
    "print(train_q.head())\n",
    "print(train_q.tail())\n",
    "train_q.to_csv(\"train_df.tsv\", sep=\"\\t\")"
   ]
  },
  {
   "cell_type": "code",
   "execution_count": 8,
   "metadata": {},
   "outputs": [
    {
     "name": "stdout",
     "output_type": "stream",
     "text": [
      "4315\n",
      "    qid  rid     q_sen                  r_sen  label\n",
      "0  4797    0  有的话我想看一看  西财学府憬城，精装套三，拎包入住，户型方正      0\n",
      "1  4797    1  有的话我想看一看                     你好      0\n",
      "2  4797    2  有的话我想看一看             王哥最近还在看房子哇      0\n",
      "3  4798    0       哪里的               杨柳春风您知道吗      0\n",
      "4  4798    1       哪里的                  青岛路那里      1\n",
      "       qid  rid           q_sen            r_sen  label\n",
      "4310  5998    1  您好，我正在看尚林家园的房子               有啊      0\n",
      "4311  5998    2  您好，我正在看尚林家园的房子            我带你看看      0\n",
      "4312  5999    0     今天可以安排看房子吗？       我约下房东，稍后回你      1\n",
      "4313  5999    1     今天可以安排看房子吗？   可以看，你几点有时间过来呢？      1\n",
      "4314  5999    2     今天可以安排看房子吗？  好的，那咱们在一号门口这碰头？      0\n"
     ]
    }
   ],
   "source": [
    "val_q = data_df[cut_point: ].reset_index(drop=True)\n",
    "print(len(val_q))\n",
    "print(val_q.head())\n",
    "print(val_q.tail())\n",
    "val_q.to_csv(\"val_df.tsv\", sep=\"\\t\")"
   ]
  },
  {
   "cell_type": "markdown",
   "metadata": {},
   "source": [
    "# step3 构造测试集问答对文件"
   ]
  },
  {
   "cell_type": "code",
   "execution_count": 4,
   "metadata": {},
   "outputs": [],
   "source": [
    "test_q_path = \"./test/test.query.tsv\"\n",
    "test_r_path = \"./test/test.reply.tsv\""
   ]
  },
  {
   "cell_type": "code",
   "execution_count": 5,
   "metadata": {},
   "outputs": [
    {
     "data": {
      "text/html": [
       "<div>\n",
       "<style scoped>\n",
       "    .dataframe tbody tr th:only-of-type {\n",
       "        vertical-align: middle;\n",
       "    }\n",
       "\n",
       "    .dataframe tbody tr th {\n",
       "        vertical-align: top;\n",
       "    }\n",
       "\n",
       "    .dataframe thead th {\n",
       "        text-align: right;\n",
       "    }\n",
       "</style>\n",
       "<table border=\"1\" class=\"dataframe\">\n",
       "  <thead>\n",
       "    <tr style=\"text-align: right;\">\n",
       "      <th></th>\n",
       "      <th>qid</th>\n",
       "      <th>q_sen</th>\n",
       "    </tr>\n",
       "  </thead>\n",
       "  <tbody>\n",
       "    <tr>\n",
       "      <th>0</th>\n",
       "      <td>0</td>\n",
       "      <td>东区西区？什么时候下证？</td>\n",
       "    </tr>\n",
       "    <tr>\n",
       "      <th>1</th>\n",
       "      <td>1</td>\n",
       "      <td>小学哪个</td>\n",
       "    </tr>\n",
       "    <tr>\n",
       "      <th>2</th>\n",
       "      <td>2</td>\n",
       "      <td>看哪个？</td>\n",
       "    </tr>\n",
       "    <tr>\n",
       "      <th>3</th>\n",
       "      <td>3</td>\n",
       "      <td>面积多少，什么户型</td>\n",
       "    </tr>\n",
       "    <tr>\n",
       "      <th>4</th>\n",
       "      <td>4</td>\n",
       "      <td>什么时候能够看房呢？</td>\n",
       "    </tr>\n",
       "  </tbody>\n",
       "</table>\n",
       "</div>"
      ],
      "text/plain": [
       "   qid         q_sen\n",
       "0    0  东区西区？什么时候下证？\n",
       "1    1          小学哪个\n",
       "2    2          看哪个？\n",
       "3    3     面积多少，什么户型\n",
       "4    4    什么时候能够看房呢？"
      ]
     },
     "execution_count": 5,
     "metadata": {},
     "output_type": "execute_result"
    }
   ],
   "source": [
    "test_q = pd.read_csv(test_q_path, header=None, names=[\"qid\", \"q_sen\"], sep=\"\\t\")\n",
    "test_q.head()"
   ]
  },
  {
   "cell_type": "code",
   "execution_count": 6,
   "metadata": {},
   "outputs": [
    {
     "data": {
      "text/html": [
       "<div>\n",
       "<style scoped>\n",
       "    .dataframe tbody tr th:only-of-type {\n",
       "        vertical-align: middle;\n",
       "    }\n",
       "\n",
       "    .dataframe tbody tr th {\n",
       "        vertical-align: top;\n",
       "    }\n",
       "\n",
       "    .dataframe thead th {\n",
       "        text-align: right;\n",
       "    }\n",
       "</style>\n",
       "<table border=\"1\" class=\"dataframe\">\n",
       "  <thead>\n",
       "    <tr style=\"text-align: right;\">\n",
       "      <th></th>\n",
       "      <th>qid</th>\n",
       "      <th>rid</th>\n",
       "      <th>r_sen</th>\n",
       "    </tr>\n",
       "  </thead>\n",
       "  <tbody>\n",
       "    <tr>\n",
       "      <th>0</th>\n",
       "      <td>0</td>\n",
       "      <td>0</td>\n",
       "      <td>我在给你发套</td>\n",
       "    </tr>\n",
       "    <tr>\n",
       "      <th>1</th>\n",
       "      <td>0</td>\n",
       "      <td>1</td>\n",
       "      <td>您看下我发的这几套</td>\n",
       "    </tr>\n",
       "    <tr>\n",
       "      <th>2</th>\n",
       "      <td>0</td>\n",
       "      <td>2</td>\n",
       "      <td>这两套也是金源花园的</td>\n",
       "    </tr>\n",
       "    <tr>\n",
       "      <th>3</th>\n",
       "      <td>0</td>\n",
       "      <td>3</td>\n",
       "      <td>价钱低</td>\n",
       "    </tr>\n",
       "    <tr>\n",
       "      <th>4</th>\n",
       "      <td>0</td>\n",
       "      <td>4</td>\n",
       "      <td>便宜的房子，一般都是顶楼</td>\n",
       "    </tr>\n",
       "  </tbody>\n",
       "</table>\n",
       "</div>"
      ],
      "text/plain": [
       "   qid  rid         r_sen\n",
       "0    0    0        我在给你发套\n",
       "1    0    1     您看下我发的这几套\n",
       "2    0    2    这两套也是金源花园的\n",
       "3    0    3           价钱低\n",
       "4    0    4  便宜的房子，一般都是顶楼"
      ]
     },
     "execution_count": 6,
     "metadata": {},
     "output_type": "execute_result"
    }
   ],
   "source": [
    "test_r = pd.read_csv(test_r_path, header=None, names=[\"qid\", \"rid\", \"r_sen\"], sep=\"\\t\")\n",
    "test_r.head()"
   ]
  },
  {
   "cell_type": "code",
   "execution_count": 9,
   "metadata": {},
   "outputs": [],
   "source": [
    "qid_list = test_r[\"qid\"].tolist()\n",
    "rid_list = test_r[\"rid\"].tolist()\n",
    "r_sen_list = test_r[\"r_sen\"].tolist()\n",
    "\n",
    "# data_q中index和qid相同\n",
    "q_sen_list = []\n",
    "for qid in qid_list:\n",
    "    tmp_sen = test_q.q_sen[qid]\n",
    "    q_sen_list.append(tmp_sen)\n",
    "    \n",
    "c = {\"qid\": qid_list, \"rid\": rid_list, \"q_sen\": q_sen_list, \"r_sen\": r_sen_list}\n",
    "test_df = pd.DataFrame(c)"
   ]
  },
  {
   "cell_type": "code",
   "execution_count": 10,
   "metadata": {},
   "outputs": [
    {
     "data": {
      "text/html": [
       "<div>\n",
       "<style scoped>\n",
       "    .dataframe tbody tr th:only-of-type {\n",
       "        vertical-align: middle;\n",
       "    }\n",
       "\n",
       "    .dataframe tbody tr th {\n",
       "        vertical-align: top;\n",
       "    }\n",
       "\n",
       "    .dataframe thead th {\n",
       "        text-align: right;\n",
       "    }\n",
       "</style>\n",
       "<table border=\"1\" class=\"dataframe\">\n",
       "  <thead>\n",
       "    <tr style=\"text-align: right;\">\n",
       "      <th></th>\n",
       "      <th>qid</th>\n",
       "      <th>rid</th>\n",
       "      <th>q_sen</th>\n",
       "      <th>r_sen</th>\n",
       "    </tr>\n",
       "  </thead>\n",
       "  <tbody>\n",
       "    <tr>\n",
       "      <th>0</th>\n",
       "      <td>0</td>\n",
       "      <td>0</td>\n",
       "      <td>东区西区？什么时候下证？</td>\n",
       "      <td>我在给你发套</td>\n",
       "    </tr>\n",
       "    <tr>\n",
       "      <th>1</th>\n",
       "      <td>0</td>\n",
       "      <td>1</td>\n",
       "      <td>东区西区？什么时候下证？</td>\n",
       "      <td>您看下我发的这几套</td>\n",
       "    </tr>\n",
       "    <tr>\n",
       "      <th>2</th>\n",
       "      <td>0</td>\n",
       "      <td>2</td>\n",
       "      <td>东区西区？什么时候下证？</td>\n",
       "      <td>这两套也是金源花园的</td>\n",
       "    </tr>\n",
       "    <tr>\n",
       "      <th>3</th>\n",
       "      <td>0</td>\n",
       "      <td>3</td>\n",
       "      <td>东区西区？什么时候下证？</td>\n",
       "      <td>价钱低</td>\n",
       "    </tr>\n",
       "    <tr>\n",
       "      <th>4</th>\n",
       "      <td>0</td>\n",
       "      <td>4</td>\n",
       "      <td>东区西区？什么时候下证？</td>\n",
       "      <td>便宜的房子，一般都是顶楼</td>\n",
       "    </tr>\n",
       "  </tbody>\n",
       "</table>\n",
       "</div>"
      ],
      "text/plain": [
       "   qid  rid         q_sen         r_sen\n",
       "0    0    0  东区西区？什么时候下证？        我在给你发套\n",
       "1    0    1  东区西区？什么时候下证？     您看下我发的这几套\n",
       "2    0    2  东区西区？什么时候下证？    这两套也是金源花园的\n",
       "3    0    3  东区西区？什么时候下证？           价钱低\n",
       "4    0    4  东区西区？什么时候下证？  便宜的房子，一般都是顶楼"
      ]
     },
     "execution_count": 10,
     "metadata": {},
     "output_type": "execute_result"
    }
   ],
   "source": [
    "test_df.head()"
   ]
  },
  {
   "cell_type": "code",
   "execution_count": null,
   "metadata": {},
   "outputs": [],
   "source": [
    "test_df.to_csv(\"test_df.tsv\", sep=\"\\t\")"
   ]
  }
 ],
 "metadata": {
  "kernelspec": {
   "display_name": "Python 3",
   "language": "python",
   "name": "python3"
  },
  "language_info": {
   "codemirror_mode": {
    "name": "ipython",
    "version": 3
   },
   "file_extension": ".py",
   "mimetype": "text/x-python",
   "name": "python",
   "nbconvert_exporter": "python",
   "pygments_lexer": "ipython3",
   "version": "3.7.5"
  }
 },
 "nbformat": 4,
 "nbformat_minor": 2
}
